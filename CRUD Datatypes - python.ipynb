{
 "cells": [
  {
   "cell_type": "code",
   "execution_count": 2,
   "id": "dd372975",
   "metadata": {},
   "outputs": [],
   "source": [
    "# creating a list\n",
    "\n",
    "My_list = ['a',1,True,3,14]"
   ]
  },
  {
   "cell_type": "code",
   "execution_count": 3,
   "id": "a6a23ce1",
   "metadata": {},
   "outputs": [
    {
     "name": "stdout",
     "output_type": "stream",
     "text": [
      "a\n"
     ]
    }
   ],
   "source": [
    "# get the first item\n",
    "\n",
    "print(My_list[0])"
   ]
  },
  {
   "cell_type": "code",
   "execution_count": 5,
   "id": "41983c94",
   "metadata": {},
   "outputs": [
    {
     "name": "stdout",
     "output_type": "stream",
     "text": [
      "['a', 1, True]\n"
     ]
    }
   ],
   "source": [
    "# get the first three values\n",
    "\n",
    "print(My_list[:3])"
   ]
  },
  {
   "cell_type": "code",
   "execution_count": 7,
   "id": "fcfa9aa8",
   "metadata": {},
   "outputs": [
    {
     "name": "stdout",
     "output_type": "stream",
     "text": [
      "['zzzz', 1, True, 3, 14]\n"
     ]
    }
   ],
   "source": [
    "#reassigning first value\n",
    "\n",
    "My_list[0] = 'zzzz'\n",
    "print(My_list)"
   ]
  },
  {
   "cell_type": "code",
   "execution_count": 9,
   "id": "7dfada8f",
   "metadata": {},
   "outputs": [
    {
     "name": "stdout",
     "output_type": "stream",
     "text": [
      "['zzzz', 1, True, 3, 14, 'appended a new value', 'appended a new value']\n"
     ]
    }
   ],
   "source": [
    "# appending new value\n",
    "\n",
    "My_list.append('appended a new value')\n",
    "print(My_list)"
   ]
  },
  {
   "cell_type": "code",
   "execution_count": 10,
   "id": "4b13bbe4",
   "metadata": {},
   "outputs": [],
   "source": [
    "# creating a tuple\n",
    "\n",
    "My_tuple = ('a',1,True,3.14)"
   ]
  },
  {
   "cell_type": "code",
   "execution_count": 12,
   "id": "b231d4f4",
   "metadata": {},
   "outputs": [
    {
     "name": "stdout",
     "output_type": "stream",
     "text": [
      "a\n"
     ]
    }
   ],
   "source": [
    "#get the first item\n",
    "\n",
    "print(My_tuple[0])"
   ]
  },
  {
   "cell_type": "code",
   "execution_count": 13,
   "id": "fa61ed8a",
   "metadata": {},
   "outputs": [
    {
     "ename": "TypeError",
     "evalue": "'tuple' object does not support item assignment",
     "output_type": "error",
     "traceback": [
      "\u001b[1;31m---------------------------------------------------------------------------\u001b[0m",
      "\u001b[1;31mTypeError\u001b[0m                                 Traceback (most recent call last)",
      "\u001b[1;32m~\\AppData\\Local\\Temp\\ipykernel_3124\\2541618198.py\u001b[0m in \u001b[0;36m<module>\u001b[1;34m\u001b[0m\n\u001b[0;32m      1\u001b[0m \u001b[1;31m# this will cause an error\u001b[0m\u001b[1;33m\u001b[0m\u001b[1;33m\u001b[0m\u001b[0m\n\u001b[0;32m      2\u001b[0m \u001b[1;33m\u001b[0m\u001b[0m\n\u001b[1;32m----> 3\u001b[1;33m \u001b[0mMy_tuple\u001b[0m\u001b[1;33m[\u001b[0m\u001b[1;36m0\u001b[0m\u001b[1;33m]\u001b[0m \u001b[1;33m=\u001b[0m \u001b[1;34m'zzzz'\u001b[0m\u001b[1;33m\u001b[0m\u001b[1;33m\u001b[0m\u001b[0m\n\u001b[0m",
      "\u001b[1;31mTypeError\u001b[0m: 'tuple' object does not support item assignment"
     ]
    }
   ],
   "source": [
    "# this will cause an error\n",
    "\n",
    "My_tuple[0] = 'zzzz'"
   ]
  },
  {
   "cell_type": "code",
   "execution_count": 15,
   "id": "78ecac31",
   "metadata": {},
   "outputs": [
    {
     "name": "stdout",
     "output_type": "stream",
     "text": [
      "{}\n"
     ]
    }
   ],
   "source": [
    "#creating my dict\n",
    "My_dict = {}\n",
    "print(My_dict)"
   ]
  },
  {
   "cell_type": "code",
   "execution_count": 16,
   "id": "9e932a3e",
   "metadata": {},
   "outputs": [
    {
     "name": "stdout",
     "output_type": "stream",
     "text": [
      "<class 'dict'>\n"
     ]
    }
   ],
   "source": [
    "print(type(My_dict))"
   ]
  },
  {
   "cell_type": "code",
   "execution_count": 17,
   "id": "ee18ea0b",
   "metadata": {},
   "outputs": [],
   "source": [
    "#inserting values\n",
    "\n",
    "My_dict['fname'] = 'daniel'\n",
    "My_dict['lname'] = 'Chen'"
   ]
  },
  {
   "cell_type": "code",
   "execution_count": 18,
   "id": "58600ad6",
   "metadata": {},
   "outputs": [
    {
     "name": "stdout",
     "output_type": "stream",
     "text": [
      "{'fname': 'daniel', 'lname': 'Chen'}\n"
     ]
    }
   ],
   "source": [
    "print(My_dict)"
   ]
  },
  {
   "cell_type": "code",
   "execution_count": 19,
   "id": "0b158147",
   "metadata": {
    "scrolled": false
   },
   "outputs": [
    {
     "name": "stdout",
     "output_type": "stream",
     "text": [
      "daniel\n"
     ]
    }
   ],
   "source": [
    "#assigning key to variable\n",
    "\n",
    "fn = My_dict['fname']\n",
    "print(fn)"
   ]
  },
  {
   "cell_type": "code",
   "execution_count": 20,
   "id": "c2f4bca7",
   "metadata": {},
   "outputs": [],
   "source": [
    "#slicing values\n",
    "\n",
    "l = ['one','two','three']"
   ]
  },
  {
   "cell_type": "code",
   "execution_count": 21,
   "id": "b335b7df",
   "metadata": {},
   "outputs": [
    {
     "name": "stdout",
     "output_type": "stream",
     "text": [
      "['one']\n"
     ]
    }
   ],
   "source": [
    "print(l[0:1])"
   ]
  },
  {
   "cell_type": "code",
   "execution_count": 22,
   "id": "51165322",
   "metadata": {},
   "outputs": [
    {
     "name": "stdout",
     "output_type": "stream",
     "text": [
      "['two', 'three']\n"
     ]
    }
   ],
   "source": [
    "print(l[1:3])"
   ]
  },
  {
   "cell_type": "code",
   "execution_count": 23,
   "id": "b11302b0",
   "metadata": {},
   "outputs": [
    {
     "name": "stdout",
     "output_type": "stream",
     "text": [
      "['two', 'three']\n"
     ]
    }
   ],
   "source": [
    "print(l[1:])"
   ]
  },
  {
   "cell_type": "code",
   "execution_count": 24,
   "id": "26effb94",
   "metadata": {},
   "outputs": [
    {
     "name": "stdout",
     "output_type": "stream",
     "text": [
      "['one', 'two', 'three']\n"
     ]
    }
   ],
   "source": [
    "print(l[:3])"
   ]
  },
  {
   "cell_type": "code",
   "execution_count": 29,
   "id": "0c8c144f",
   "metadata": {},
   "outputs": [
    {
     "name": "stdout",
     "output_type": "stream",
     "text": [
      "['one', 'three']\n"
     ]
    }
   ],
   "source": [
    "print(l[::2])"
   ]
  },
  {
   "cell_type": "code",
   "execution_count": 30,
   "id": "156c6d62",
   "metadata": {},
   "outputs": [],
   "source": [
    "l=[1,2,3]"
   ]
  },
  {
   "cell_type": "code",
   "execution_count": 38,
   "id": "07e3b56c",
   "metadata": {},
   "outputs": [
    {
     "name": "stdout",
     "output_type": "stream",
     "text": [
      "current value is: 1\n",
      "it's squared value is: 1\n",
      "end of the loop, going back to the top\n",
      "\n",
      "current value is: 2\n",
      "it's squared value is: 4\n",
      "end of the loop, going back to the top\n",
      "\n",
      "current value is: 3\n",
      "it's squared value is: 9\n",
      "end of the loop, going back to the top\n",
      "\n"
     ]
    }
   ],
   "source": [
    "#for loop to return squared numbers\n",
    "\n",
    "for i in l:\n",
    "    print('current value is: {}'.format(i))\n",
    "    print(\"it's squared value is: {}\".format(i*i))\n",
    "    print('end of the loop, going back to the top\\n')"
   ]
  },
  {
   "cell_type": "code",
   "execution_count": null,
   "id": "5cc61cf2",
   "metadata": {},
   "outputs": [],
   "source": []
  }
 ],
 "metadata": {
  "kernelspec": {
   "display_name": "Python 3 (ipykernel)",
   "language": "python",
   "name": "python3"
  },
  "language_info": {
   "codemirror_mode": {
    "name": "ipython",
    "version": 3
   },
   "file_extension": ".py",
   "mimetype": "text/x-python",
   "name": "python",
   "nbconvert_exporter": "python",
   "pygments_lexer": "ipython3",
   "version": "3.9.13"
  }
 },
 "nbformat": 4,
 "nbformat_minor": 5
}
